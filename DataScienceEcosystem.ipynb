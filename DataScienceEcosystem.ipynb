{
 "cells": [
  {
   "cell_type": "markdown",
   "id": "cf5bb268",
   "metadata": {},
   "source": [
    "# Data Science Tools and Ecosystem"
   ]
  },
  {
   "cell_type": "markdown",
   "id": "1964cf04",
   "metadata": {},
   "source": [
    "## Intro:\n",
    "In the notebook, the main data science tools will be presented."
   ]
  },
  {
   "cell_type": "markdown",
   "id": "6e6151c8",
   "metadata": {},
   "source": [
    "# Objectives\n",
    "## List popular languages for Data Science\n",
    "- Learn how to install jupyter notebook\n",
    "- Navigate in the Jupyter Notebook environment\n",
    "- I learned to create a folder and rename it\n",
    "- Tutorial to rename the file (Jupyter notebook)\n",
    "- Create a markdown cell with the \"markdown\" environment using the # for the formatting of the titles and lines\n",
    "- Create a bulleted list\n",
    "- write code to multiply, add, divide etc."
   ]
  },
  {
   "cell_type": "markdown",
   "id": "0f892cb9",
   "metadata": {},
   "source": [
    "## Below are the most popular languages among data scientists:\n",
    "### Some of the commonly used libraries include:\n",
    "### ordered list\n",
    "- Python\n",
    "- R\n",
    "- SQL\n",
    "- Julia"
   ]
  },
  {
   "cell_type": "markdown",
   "id": "156c426f",
   "metadata": {},
   "source": [
    "## data science libraries\n",
    "- Pandas\n",
    "- Numpy\n",
    "- Scipy y\n",
    "- Matplotlib"
   ]
  },
  {
   "cell_type": "markdown",
   "id": "34ad43fa",
   "metadata": {},
   "source": [
    "## Data Science Tools\n",
    "- Python\n",
    "- Jupyter\n",
    "- Apache AirFlow"
   ]
  },
  {
   "cell_type": "markdown",
   "id": "f38f1cba",
   "metadata": {},
   "source": [
    "## Some examples of evaluating arithmetic expressions in Python"
   ]
  },
  {
   "cell_type": "markdown",
   "id": "5105adcd",
   "metadata": {},
   "source": [
    "### This a simple arithmetic expression to mutiply then add integers"
   ]
  },
  {
   "cell_type": "code",
   "execution_count": 3,
   "id": "8e63de9a",
   "metadata": {},
   "outputs": [
    {
     "data": {
      "text/plain": [
       "17"
      ]
     },
     "execution_count": 3,
     "metadata": {},
     "output_type": "execute_result"
    }
   ],
   "source": [
    "(3*4)+5"
   ]
  },
  {
   "cell_type": "markdown",
   "id": "f5a8a868",
   "metadata": {},
   "source": [
    "### This will convert 200 minutes to hours by diving by 60"
   ]
  },
  {
   "cell_type": "code",
   "execution_count": 4,
   "id": "c08ebe4d",
   "metadata": {},
   "outputs": [
    {
     "data": {
      "text/plain": [
       "3.3333333333333335"
      ]
     },
     "execution_count": 4,
     "metadata": {},
     "output_type": "execute_result"
    }
   ],
   "source": [
    "200 / 60"
   ]
  },
  {
   "cell_type": "markdown",
   "id": "92332896",
   "metadata": {},
   "source": [
    "## Author\n",
    "Almaraz Morales Filemón"
   ]
  },
  {
   "cell_type": "code",
   "execution_count": null,
   "id": "fde00474",
   "metadata": {},
   "outputs": [],
   "source": []
  }
 ],
 "metadata": {
  "kernelspec": {
   "display_name": "Python 3 (ipykernel)",
   "language": "python",
   "name": "python3"
  },
  "language_info": {
   "codemirror_mode": {
    "name": "ipython",
    "version": 3
   },
   "file_extension": ".py",
   "mimetype": "text/x-python",
   "name": "python",
   "nbconvert_exporter": "python",
   "pygments_lexer": "ipython3",
   "version": "3.10.9"
  }
 },
 "nbformat": 4,
 "nbformat_minor": 5
}
